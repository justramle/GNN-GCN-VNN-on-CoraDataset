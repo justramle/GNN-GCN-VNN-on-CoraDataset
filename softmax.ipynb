{
 "cells": [
  {
   "cell_type": "code",
   "execution_count": 10,
   "metadata": {},
   "outputs": [
    {
     "name": "stdout",
     "output_type": "stream",
     "text": [
      "[[0.09003057 0.00242826 0.01587624 0.33333333]\n",
      " [0.24472847 0.01794253 0.11731043 0.33333333]\n",
      " [0.66524096 0.97962921 0.86681333 0.33333333]]\n",
      "[1. 1. 1. 1.]\n",
      "[[0.09003057 0.00242826 0.01587624 0.33333333]\n",
      " [0.24472847 0.01794253 0.11731043 0.33333333]\n",
      " [0.66524096 0.97962921 0.86681333 0.33333333]]\n",
      "[1. 1. 1. 1.]\n"
     ]
    }
   ],
   "source": [
    "import numpy as np\n",
    "\n",
    "def softmax(x):\n",
    "    return np.exp(x) / np.sum(np.exp(x), axis=0)\n",
    "\n",
    "def softmax2(x):\n",
    "    e_x = np.exp(x - np.max(x))\n",
    "    return e_x / np.sum(e_x, axis=0)\n",
    "\n",
    "scores = np.array([[1, 2, 3, 6],\n",
    "                     [2, 4, 5, 6],\n",
    "                     [3, 8, 7, 6]])\n",
    "print(softmax(scores))\n",
    "print(sum(softmax(scores)))\n",
    "\n",
    "print(softmax2(scores))\n",
    "print(sum(softmax2(scores)))\n",
    "\n"
   ]
  }
 ],
 "metadata": {
  "kernelspec": {
   "display_name": "base",
   "language": "python",
   "name": "python3"
  },
  "language_info": {
   "codemirror_mode": {
    "name": "ipython",
    "version": 3
   },
   "file_extension": ".py",
   "mimetype": "text/x-python",
   "name": "python",
   "nbconvert_exporter": "python",
   "pygments_lexer": "ipython3",
   "version": "3.11.5"
  }
 },
 "nbformat": 4,
 "nbformat_minor": 2
}
